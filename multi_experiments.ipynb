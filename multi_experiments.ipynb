{
 "cells": [
  {
   "cell_type": "code",
   "execution_count": 1,
   "metadata": {},
   "outputs": [],
   "source": [
    "from typing import List, Dict\n",
    "\n",
    "import matplotlib.pyplot as plt\n",
    "import pandas as pd\n",
    "import numpy as np\n",
    "import tensorly as tl\n",
    "from gluonts.dataset.util import to_pandas\n",
    "\n",
    "\n",
    "from tens_utils import (\n",
    "    get_gluonts_dataset,\n",
    "    mad,\n",
    "    rmse, \n",
    "    get_param_sweep,\n",
    "    trend_cycle_decompose,\n",
    ")\n",
    "\n",
    "from forecaster import (\n",
    "    DCTForecaster, DFTForecaster, HoltWintersForecaster, CPForecaster, TuckerForecaster\n",
    ")\n",
    "from experiment import SingleForecasterExperiment, TensorSeasonExperiment"
   ]
  },
  {
   "cell_type": "code",
   "execution_count": 5,
   "metadata": {},
   "outputs": [],
   "source": [
    "ts_experiments = TensorSeasonExperiment(\n",
    "    dataset_name=\"electricity_seasonal_85\",\n",
    "    folds=(24, 7),\n",
    "    nr_in_cycles=120,\n",
    "    nr_examples=5,\n",
    ")"
   ]
  },
  {
   "cell_type": "code",
   "execution_count": 6,
   "metadata": {},
   "outputs": [
    {
     "name": "stderr",
     "output_type": "stream",
     "text": [
      "100%|██████████| 5/5 [05:34<00:00, 67.00s/it]\n"
     ]
    }
   ],
   "source": [
    "results = ts_experiments.run()"
   ]
  },
  {
   "cell_type": "code",
   "execution_count": 7,
   "metadata": {},
   "outputs": [
    {
     "name": "stderr",
     "output_type": "stream",
     "text": [
      "/Users/caner/VENVS/GluonTS/lib/python3.6/site-packages/ipykernel_launcher.py:1: FutureWarning: Indexing with multiple keys (implicitly converted to a tuple of keys) will be deprecated, use a list instead.\n",
      "  \"\"\"Entry point for launching an IPython kernel.\n"
     ]
    }
   ],
   "source": [
    "mean_errors = results.groupby([\"dataset\", \"experiment_id\", \"model\", \"parameters\"])[\"in_rmse\", \"in_mad\", \"out_rmse\", \"out_mad\"].mean()"
   ]
  },
  {
   "cell_type": "code",
   "execution_count": 9,
   "metadata": {},
   "outputs": [
    {
     "name": "stderr",
     "output_type": "stream",
     "text": [
      "/Users/caner/VENVS/GluonTS/lib/python3.6/site-packages/ipykernel_launcher.py:1: FutureWarning: Indexing with multiple keys (implicitly converted to a tuple of keys) will be deprecated, use a list instead.\n",
      "  \"\"\"Entry point for launching an IPython kernel.\n"
     ]
    },
    {
     "data": {
      "text/html": [
       "<div>\n",
       "<style scoped>\n",
       "    .dataframe tbody tr th:only-of-type {\n",
       "        vertical-align: middle;\n",
       "    }\n",
       "\n",
       "    .dataframe tbody tr th {\n",
       "        vertical-align: top;\n",
       "    }\n",
       "\n",
       "    .dataframe thead th {\n",
       "        text-align: right;\n",
       "    }\n",
       "</style>\n",
       "<table border=\"1\" class=\"dataframe\">\n",
       "  <thead>\n",
       "    <tr style=\"text-align: right;\">\n",
       "      <th></th>\n",
       "      <th></th>\n",
       "      <th></th>\n",
       "      <th>in_rmse</th>\n",
       "      <th>in_mad</th>\n",
       "      <th>out_rmse</th>\n",
       "      <th>out_mad</th>\n",
       "    </tr>\n",
       "    <tr>\n",
       "      <th>dataset</th>\n",
       "      <th>experiment_id</th>\n",
       "      <th>model</th>\n",
       "      <th></th>\n",
       "      <th></th>\n",
       "      <th></th>\n",
       "      <th></th>\n",
       "    </tr>\n",
       "  </thead>\n",
       "  <tbody>\n",
       "    <tr>\n",
       "      <th rowspan=\"5\" valign=\"top\">electricity_seasonal_85</th>\n",
       "      <th rowspan=\"5\" valign=\"top\">165936fb-237a-4b19-9158-e2d5698af3c7</th>\n",
       "      <th>CPForecaster</th>\n",
       "      <td>0.031922</td>\n",
       "      <td>0.022836</td>\n",
       "      <td>0.049638</td>\n",
       "      <td>0.037377</td>\n",
       "    </tr>\n",
       "    <tr>\n",
       "      <th>DCTForecaster</th>\n",
       "      <td>0.044190</td>\n",
       "      <td>0.031514</td>\n",
       "      <td>0.069898</td>\n",
       "      <td>0.054260</td>\n",
       "    </tr>\n",
       "    <tr>\n",
       "      <th>DFTForecaster</th>\n",
       "      <td>0.040435</td>\n",
       "      <td>0.028791</td>\n",
       "      <td>0.054381</td>\n",
       "      <td>0.040986</td>\n",
       "    </tr>\n",
       "    <tr>\n",
       "      <th>HoltWintersForecaster</th>\n",
       "      <td>0.000000</td>\n",
       "      <td>0.000000</td>\n",
       "      <td>0.049310</td>\n",
       "      <td>0.037159</td>\n",
       "    </tr>\n",
       "    <tr>\n",
       "      <th>TuckerForecaster</th>\n",
       "      <td>0.050154</td>\n",
       "      <td>0.035389</td>\n",
       "      <td>0.048281</td>\n",
       "      <td>0.035985</td>\n",
       "    </tr>\n",
       "  </tbody>\n",
       "</table>\n",
       "</div>"
      ],
      "text/plain": [
       "                                                                                     in_rmse  \\\n",
       "dataset                 experiment_id                        model                             \n",
       "electricity_seasonal_85 165936fb-237a-4b19-9158-e2d5698af3c7 CPForecaster           0.031922   \n",
       "                                                             DCTForecaster          0.044190   \n",
       "                                                             DFTForecaster          0.040435   \n",
       "                                                             HoltWintersForecaster  0.000000   \n",
       "                                                             TuckerForecaster       0.050154   \n",
       "\n",
       "                                                                                      in_mad  \\\n",
       "dataset                 experiment_id                        model                             \n",
       "electricity_seasonal_85 165936fb-237a-4b19-9158-e2d5698af3c7 CPForecaster           0.022836   \n",
       "                                                             DCTForecaster          0.031514   \n",
       "                                                             DFTForecaster          0.028791   \n",
       "                                                             HoltWintersForecaster  0.000000   \n",
       "                                                             TuckerForecaster       0.035389   \n",
       "\n",
       "                                                                                    out_rmse  \\\n",
       "dataset                 experiment_id                        model                             \n",
       "electricity_seasonal_85 165936fb-237a-4b19-9158-e2d5698af3c7 CPForecaster           0.049638   \n",
       "                                                             DCTForecaster          0.069898   \n",
       "                                                             DFTForecaster          0.054381   \n",
       "                                                             HoltWintersForecaster  0.049310   \n",
       "                                                             TuckerForecaster       0.048281   \n",
       "\n",
       "                                                                                     out_mad  \n",
       "dataset                 experiment_id                        model                            \n",
       "electricity_seasonal_85 165936fb-237a-4b19-9158-e2d5698af3c7 CPForecaster           0.037377  \n",
       "                                                             DCTForecaster          0.054260  \n",
       "                                                             DFTForecaster          0.040986  \n",
       "                                                             HoltWintersForecaster  0.037159  \n",
       "                                                             TuckerForecaster       0.035985  "
      ]
     },
     "execution_count": 9,
     "metadata": {},
     "output_type": "execute_result"
    }
   ],
   "source": [
    "mean_errors.groupby([\"dataset\", \"experiment_id\", \"model\"])[\"in_rmse\", \"in_mad\", \"out_rmse\", \"out_mad\"].min()"
   ]
  },
  {
   "cell_type": "code",
   "execution_count": null,
   "metadata": {},
   "outputs": [],
   "source": []
  }
 ],
 "metadata": {
  "kernelspec": {
   "display_name": "Python 3",
   "language": "python",
   "name": "python3"
  },
  "language_info": {
   "codemirror_mode": {
    "name": "ipython",
    "version": 3
   },
   "file_extension": ".py",
   "mimetype": "text/x-python",
   "name": "python",
   "nbconvert_exporter": "python",
   "pygments_lexer": "ipython3",
   "version": "3.6.5"
  }
 },
 "nbformat": 4,
 "nbformat_minor": 4
}
