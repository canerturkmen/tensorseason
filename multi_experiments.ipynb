{
 "cells": [
  {
   "cell_type": "code",
   "execution_count": 1,
   "metadata": {},
   "outputs": [],
   "source": [
    "from typing import List, Dict\n",
    "\n",
    "import matplotlib.pyplot as plt\n",
    "import pandas as pd\n",
    "import numpy as np\n",
    "import tensorly as tl\n",
    "from gluonts.dataset.util import to_pandas\n",
    "\n",
    "\n",
    "from tens_utils import (\n",
    "    get_gluonts_dataset,\n",
    "    mad,\n",
    "    rmse, \n",
    "    get_param_sweep,\n",
    "    trend_cycle_decompose,\n",
    ")\n",
    "\n",
    "from forecaster import (\n",
    "    DCTForecaster, DFTForecaster, HoltWintersForecaster, CPForecaster, TuckerForecaster\n",
    ")\n",
    "from experiment import SingleForecasterExperiment, TensorSeasonExperiment"
   ]
  },
  {
   "cell_type": "code",
   "execution_count": 2,
   "metadata": {},
   "outputs": [],
   "source": [
    "ts_experiments = TensorSeasonExperiment(\n",
    "    dataset_name=\"traffic_75\",\n",
    "    folds=(24, 7),\n",
    "    nr_in_cycles=70,\n",
    "    nr_examples=5,\n",
    ")"
   ]
  },
  {
   "cell_type": "code",
   "execution_count": 3,
   "metadata": {},
   "outputs": [
    {
     "data": {
      "text/plain": [
       "5"
      ]
     },
     "execution_count": 3,
     "metadata": {},
     "output_type": "execute_result"
    }
   ],
   "source": [
    "len(ts_experiments._get_dataset())"
   ]
  },
  {
   "cell_type": "code",
   "execution_count": 4,
   "metadata": {},
   "outputs": [
    {
     "name": "stderr",
     "output_type": "stream",
     "text": [
      "100%|██████████| 5/5 [04:10<00:00, 50.08s/it]\n"
     ]
    }
   ],
   "source": [
    "results = ts_experiments.run()"
   ]
  },
  {
   "cell_type": "code",
   "execution_count": 5,
   "metadata": {},
   "outputs": [
    {
     "name": "stderr",
     "output_type": "stream",
     "text": [
      "/Users/caner/VENVS/GluonTS/lib/python3.6/site-packages/ipykernel_launcher.py:1: FutureWarning: Indexing with multiple keys (implicitly converted to a tuple of keys) will be deprecated, use a list instead.\n",
      "  \"\"\"Entry point for launching an IPython kernel.\n"
     ]
    }
   ],
   "source": [
    "mean_errors = results.groupby([\"dataset\", \"experiment_id\", \"model\", \"parameters\"])[\"in_rmse\", \"in_mad\", \"out_rmse\", \"out_mad\"].mean()"
   ]
  },
  {
   "cell_type": "code",
   "execution_count": 6,
   "metadata": {},
   "outputs": [
    {
     "name": "stderr",
     "output_type": "stream",
     "text": [
      "/Users/caner/VENVS/GluonTS/lib/python3.6/site-packages/ipykernel_launcher.py:1: FutureWarning: Indexing with multiple keys (implicitly converted to a tuple of keys) will be deprecated, use a list instead.\n",
      "  \"\"\"Entry point for launching an IPython kernel.\n"
     ]
    },
    {
     "data": {
      "text/html": [
       "<div>\n",
       "<style scoped>\n",
       "    .dataframe tbody tr th:only-of-type {\n",
       "        vertical-align: middle;\n",
       "    }\n",
       "\n",
       "    .dataframe tbody tr th {\n",
       "        vertical-align: top;\n",
       "    }\n",
       "\n",
       "    .dataframe thead th {\n",
       "        text-align: right;\n",
       "    }\n",
       "</style>\n",
       "<table border=\"1\" class=\"dataframe\">\n",
       "  <thead>\n",
       "    <tr style=\"text-align: right;\">\n",
       "      <th></th>\n",
       "      <th></th>\n",
       "      <th></th>\n",
       "      <th>in_rmse</th>\n",
       "      <th>in_mad</th>\n",
       "      <th>out_rmse</th>\n",
       "      <th>out_mad</th>\n",
       "    </tr>\n",
       "    <tr>\n",
       "      <th>dataset</th>\n",
       "      <th>experiment_id</th>\n",
       "      <th>model</th>\n",
       "      <th></th>\n",
       "      <th></th>\n",
       "      <th></th>\n",
       "      <th></th>\n",
       "    </tr>\n",
       "  </thead>\n",
       "  <tbody>\n",
       "    <tr>\n",
       "      <th rowspan=\"6\" valign=\"top\">traffic_75</th>\n",
       "      <th rowspan=\"6\" valign=\"top\">9bf28efb-c4ae-43b4-bbd5-a38e60f028b3</th>\n",
       "      <th>CPForecaster</th>\n",
       "      <td>0.027399</td>\n",
       "      <td>0.016530</td>\n",
       "      <td>0.043924</td>\n",
       "      <td>0.022969</td>\n",
       "    </tr>\n",
       "    <tr>\n",
       "      <th>DCTForecaster</th>\n",
       "      <td>0.041623</td>\n",
       "      <td>0.026633</td>\n",
       "      <td>0.062766</td>\n",
       "      <td>0.043959</td>\n",
       "    </tr>\n",
       "    <tr>\n",
       "      <th>DFTForecaster</th>\n",
       "      <td>0.039509</td>\n",
       "      <td>0.024676</td>\n",
       "      <td>0.051979</td>\n",
       "      <td>0.033700</td>\n",
       "    </tr>\n",
       "    <tr>\n",
       "      <th>FourierBasisRegressionForecaster</th>\n",
       "      <td>0.048856</td>\n",
       "      <td>0.029822</td>\n",
       "      <td>0.046561</td>\n",
       "      <td>0.027309</td>\n",
       "    </tr>\n",
       "    <tr>\n",
       "      <th>HoltWintersForecaster</th>\n",
       "      <td>0.047144</td>\n",
       "      <td>0.026699</td>\n",
       "      <td>0.046154</td>\n",
       "      <td>0.026559</td>\n",
       "    </tr>\n",
       "    <tr>\n",
       "      <th>TuckerForecaster</th>\n",
       "      <td>0.046225</td>\n",
       "      <td>0.027856</td>\n",
       "      <td>0.045527</td>\n",
       "      <td>0.025501</td>\n",
       "    </tr>\n",
       "  </tbody>\n",
       "</table>\n",
       "</div>"
      ],
      "text/plain": [
       "                                                                                   in_rmse  \\\n",
       "dataset    experiment_id                        model                                        \n",
       "traffic_75 9bf28efb-c4ae-43b4-bbd5-a38e60f028b3 CPForecaster                      0.027399   \n",
       "                                                DCTForecaster                     0.041623   \n",
       "                                                DFTForecaster                     0.039509   \n",
       "                                                FourierBasisRegressionForecaster  0.048856   \n",
       "                                                HoltWintersForecaster             0.047144   \n",
       "                                                TuckerForecaster                  0.046225   \n",
       "\n",
       "                                                                                    in_mad  \\\n",
       "dataset    experiment_id                        model                                        \n",
       "traffic_75 9bf28efb-c4ae-43b4-bbd5-a38e60f028b3 CPForecaster                      0.016530   \n",
       "                                                DCTForecaster                     0.026633   \n",
       "                                                DFTForecaster                     0.024676   \n",
       "                                                FourierBasisRegressionForecaster  0.029822   \n",
       "                                                HoltWintersForecaster             0.026699   \n",
       "                                                TuckerForecaster                  0.027856   \n",
       "\n",
       "                                                                                  out_rmse  \\\n",
       "dataset    experiment_id                        model                                        \n",
       "traffic_75 9bf28efb-c4ae-43b4-bbd5-a38e60f028b3 CPForecaster                      0.043924   \n",
       "                                                DCTForecaster                     0.062766   \n",
       "                                                DFTForecaster                     0.051979   \n",
       "                                                FourierBasisRegressionForecaster  0.046561   \n",
       "                                                HoltWintersForecaster             0.046154   \n",
       "                                                TuckerForecaster                  0.045527   \n",
       "\n",
       "                                                                                   out_mad  \n",
       "dataset    experiment_id                        model                                       \n",
       "traffic_75 9bf28efb-c4ae-43b4-bbd5-a38e60f028b3 CPForecaster                      0.022969  \n",
       "                                                DCTForecaster                     0.043959  \n",
       "                                                DFTForecaster                     0.033700  \n",
       "                                                FourierBasisRegressionForecaster  0.027309  \n",
       "                                                HoltWintersForecaster             0.026559  \n",
       "                                                TuckerForecaster                  0.025501  "
      ]
     },
     "execution_count": 6,
     "metadata": {},
     "output_type": "execute_result"
    }
   ],
   "source": [
    "mean_errors.groupby([\"dataset\", \"experiment_id\", \"model\"])[\"in_rmse\", \"in_mad\", \"out_rmse\", \"out_mad\"].min()"
   ]
  },
  {
   "cell_type": "code",
   "execution_count": 7,
   "metadata": {},
   "outputs": [],
   "source": [
    "results.to_pickle(\"results/traffic_better_wfbm.pkl\")"
   ]
  },
  {
   "cell_type": "code",
   "execution_count": null,
   "metadata": {},
   "outputs": [],
   "source": []
  }
 ],
 "metadata": {
  "kernelspec": {
   "display_name": "Python 3",
   "language": "python",
   "name": "python3"
  },
  "language_info": {
   "codemirror_mode": {
    "name": "ipython",
    "version": 3
   },
   "file_extension": ".py",
   "mimetype": "text/x-python",
   "name": "python",
   "nbconvert_exporter": "python",
   "pygments_lexer": "ipython3",
   "version": "3.6.5"
  }
 },
 "nbformat": 4,
 "nbformat_minor": 4
}
