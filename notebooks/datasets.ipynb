{
 "cells": [
  {
   "cell_type": "code",
   "execution_count": 33,
   "metadata": {},
   "outputs": [],
   "source": [
    "%matplotlib inline\n",
    "import copy\n",
    "import json\n",
    "from uuid import uuid4\n",
    "from pathlib import Path\n",
    "from typing import List, Dict\n",
    "\n",
    "import matplotlib.pyplot as plt\n",
    "import pandas as pd\n",
    "import numpy as np\n",
    "import tensorly as tl\n",
    "from gluonts.dataset.util import to_pandas\n",
    "\n",
    "\n",
    "from tens_utils import (\n",
    "    get_gluonts_dataset,\n",
    "    mad,\n",
    "    rmse, \n",
    "    get_param_sweep,\n",
    "    trend_cycle_decompose,\n",
    "    naive_seasonal_decompose,\n",
    ")\n"
   ]
  },
  {
   "cell_type": "code",
   "execution_count": 19,
   "metadata": {},
   "outputs": [],
   "source": [
    "def is_seasonal(df, period: int, threshold: float = 0.75) -> bool:\n",
    "    tc, res_tc = trend_cycle_decompose(df, period * 2)\n",
    "    seas, res_seas = naive_seasonal_decompose(res_tc, period * 7)\n",
    "\n",
    "    r2 = np.square(seas).sum() / np.square(res_tc).sum()\n",
    "    \n",
    "    return r2 > threshold"
   ]
  },
  {
   "cell_type": "code",
   "execution_count": 65,
   "metadata": {},
   "outputs": [
    {
     "name": "stderr",
     "output_type": "stream",
     "text": [
      "INFO:root:downloading and processing traffic\n"
     ]
    },
    {
     "name": "stdout",
     "output_type": "stream",
     "text": [
      "saving time-series into /Users/caner/.mxnet/gluon-ts/datasets/traffic/train/data.json\n",
      "saving time-series into /Users/caner/.mxnet/gluon-ts/datasets/traffic/test/data.json\n",
      "14036    862\n",
      "dtype: int64\n",
      "H    862\n",
      "dtype: int64\n"
     ]
    }
   ],
   "source": [
    "train_datas, test_datas, lens, freqs = get_gluonts_dataset(dataset_name=\"traffic\")"
   ]
  },
  {
   "cell_type": "code",
   "execution_count": 66,
   "metadata": {},
   "outputs": [
    {
     "data": {
      "text/plain": [
       "862"
      ]
     },
     "execution_count": 66,
     "metadata": {},
     "output_type": "execute_result"
    }
   ],
   "source": [
    "len(train_datas)"
   ]
  },
  {
   "cell_type": "code",
   "execution_count": 62,
   "metadata": {},
   "outputs": [],
   "source": [
    "# !rm datasets/electricity_seasonal_75/*"
   ]
  },
  {
   "cell_type": "code",
   "execution_count": 72,
   "metadata": {},
   "outputs": [],
   "source": [
    "# !mkdir datasets/traffic_85/"
   ]
  },
  {
   "cell_type": "code",
   "execution_count": 76,
   "metadata": {},
   "outputs": [
    {
     "name": "stdout",
     "output_type": "stream",
     "text": [
      "     134\n"
     ]
    }
   ],
   "source": [
    "!ls -l datasets/traffic_85/ | wc -l"
   ]
  },
  {
   "cell_type": "code",
   "execution_count": 73,
   "metadata": {},
   "outputs": [],
   "source": [
    "EXPECTED_PERIOD = 24 * 7\n",
    "OUT_PATH = Path(\"datasets/traffic_85/\")"
   ]
  },
  {
   "cell_type": "code",
   "execution_count": 74,
   "metadata": {},
   "outputs": [],
   "source": [
    "for data in train_datas:\n",
    "    data_id = str(uuid4())[:7]\n",
    "    \n",
    "    data_out = {}\n",
    "\n",
    "    if is_seasonal(to_pandas(data), period=EXPECTED_PERIOD, threshold=0.85):\n",
    "#         print(data_id)\n",
    "        \n",
    "        data_out[\"id\"] = data_id\n",
    "        data_out[\"start\"] = str(data[\"start\"])\n",
    "        data_out[\"target\"] = data[\"target\"].tolist()\n",
    "\n",
    "        with open(OUT_PATH / f\"{data_id}.json\", \"w\") as fp:\n",
    "            json.dump(data_out, fp)"
   ]
  },
  {
   "cell_type": "code",
   "execution_count": null,
   "metadata": {},
   "outputs": [],
   "source": []
  }
 ],
 "metadata": {
  "kernelspec": {
   "display_name": "Python 3",
   "language": "python",
   "name": "python3"
  },
  "language_info": {
   "codemirror_mode": {
    "name": "ipython",
    "version": 3
   },
   "file_extension": ".py",
   "mimetype": "text/x-python",
   "name": "python",
   "nbconvert_exporter": "python",
   "pygments_lexer": "ipython3",
   "version": "3.6.5"
  }
 },
 "nbformat": 4,
 "nbformat_minor": 4
}
