{
 "cells": [
  {
   "cell_type": "code",
   "execution_count": 24,
   "metadata": {},
   "outputs": [],
   "source": [
    "from typing import List, Dict\n",
    "\n",
    "import matplotlib.pyplot as plt\n",
    "import pandas as pd\n",
    "import numpy as np\n",
    "import tensorly as tl\n",
    "from gluonts.dataset.util import to_pandas\n",
    "\n",
    "\n",
    "from tensorseason.utils import (\n",
    "    get_gluonts_dataset,\n",
    "    mad,\n",
    "    rmse, \n",
    "    get_param_sweep,\n",
    "    trend_cycle_decompose,\n",
    ")\n",
    "\n",
    "from tensorseason.forecaster import (\n",
    "    DCTForecaster, DFTForecaster, HoltWintersForecaster, CPForecaster, TuckerForecaster\n",
    ")\n",
    "from tensorseason.experiment import SingleForecasterExperiment, TensorSeasonExperiment"
   ]
  },
  {
   "cell_type": "code",
   "execution_count": 35,
   "metadata": {},
   "outputs": [],
   "source": [
    "ts_experiments = TensorSeasonExperiment(\n",
    "    dataset_name=\"kaggle_energy\",\n",
    "    folds=(24, 7, 52),\n",
    "    nr_in_cycles=10,\n",
    "    nr_examples=0,\n",
    "    n_jobs=1,\n",
    "    dataset_path=\"/Users/caner/code/tensorseason/datasets/\"\n",
    ")"
   ]
  },
  {
   "cell_type": "code",
   "execution_count": 36,
   "metadata": {},
   "outputs": [
    {
     "name": "stdout",
     "output_type": "stream",
     "text": [
      "6\n",
      "624\n"
     ]
    }
   ],
   "source": [
    "dset = ts_experiments._get_dataset()\n",
    "\n",
    "print(len(dset))\n",
    "print(len(dset[0]['target']) // (24 * 7))"
   ]
  },
  {
   "cell_type": "code",
   "execution_count": 37,
   "metadata": {},
   "outputs": [
    {
     "name": "stderr",
     "output_type": "stream",
     "text": [
      "\n",
      "\n",
      "  0%|          | 0/6 [00:00<?, ?it/s]\u001b[A\u001b[A\n",
      "\n",
      " 17%|█▋        | 1/6 [00:40<03:21, 40.28s/it]\u001b[A\u001b[A\n",
      "\n",
      " 33%|███▎      | 2/6 [01:25<02:47, 41.82s/it]\u001b[A\u001b[A\n",
      "\n",
      " 50%|█████     | 3/6 [02:07<02:05, 41.77s/it]\u001b[A\u001b[A\n",
      "\n",
      " 67%|██████▋   | 4/6 [02:49<01:23, 41.85s/it]\u001b[A\u001b[A\n",
      "\n",
      " 83%|████████▎ | 5/6 [03:30<00:41, 41.50s/it]\u001b[A\u001b[A\n",
      "\n",
      "100%|██████████| 6/6 [04:13<00:00, 42.25s/it]\u001b[A\u001b[A\n"
     ]
    }
   ],
   "source": [
    "results = ts_experiments.run()"
   ]
  },
  {
   "cell_type": "code",
   "execution_count": 38,
   "metadata": {},
   "outputs": [
    {
     "name": "stderr",
     "output_type": "stream",
     "text": [
      "<ipython-input-38-f8e0339828dc>:1: FutureWarning: Indexing with multiple keys (implicitly converted to a tuple of keys) will be deprecated, use a list instead.\n",
      "  mean_errors = results.groupby([\"dataset\", \"experiment_id\", \"model\", \"parameters\"])[\"in_rmse\", \"in_mad\", \"out_rmse\", \"out_mad\"].mean()\n"
     ]
    }
   ],
   "source": [
    "mean_errors = results.groupby([\"dataset\", \"experiment_id\", \"model\", \"parameters\"])[\"in_rmse\", \"in_mad\", \"out_rmse\", \"out_mad\"].mean()"
   ]
  },
  {
   "cell_type": "code",
   "execution_count": 39,
   "metadata": {},
   "outputs": [
    {
     "name": "stderr",
     "output_type": "stream",
     "text": [
      "<ipython-input-39-13dde2427689>:1: FutureWarning: Indexing with multiple keys (implicitly converted to a tuple of keys) will be deprecated, use a list instead.\n",
      "  mean_errors.groupby([\"dataset\", \"experiment_id\", \"model\"])[\"in_rmse\", \"in_mad\", \"out_rmse\", \"out_mad\"].min()\n"
     ]
    },
    {
     "data": {
      "text/html": [
       "<div>\n",
       "<style scoped>\n",
       "    .dataframe tbody tr th:only-of-type {\n",
       "        vertical-align: middle;\n",
       "    }\n",
       "\n",
       "    .dataframe tbody tr th {\n",
       "        vertical-align: top;\n",
       "    }\n",
       "\n",
       "    .dataframe thead th {\n",
       "        text-align: right;\n",
       "    }\n",
       "</style>\n",
       "<table border=\"1\" class=\"dataframe\">\n",
       "  <thead>\n",
       "    <tr style=\"text-align: right;\">\n",
       "      <th></th>\n",
       "      <th></th>\n",
       "      <th></th>\n",
       "      <th>in_rmse</th>\n",
       "      <th>in_mad</th>\n",
       "      <th>out_rmse</th>\n",
       "      <th>out_mad</th>\n",
       "    </tr>\n",
       "    <tr>\n",
       "      <th>dataset</th>\n",
       "      <th>experiment_id</th>\n",
       "      <th>model</th>\n",
       "      <th></th>\n",
       "      <th></th>\n",
       "      <th></th>\n",
       "      <th></th>\n",
       "    </tr>\n",
       "  </thead>\n",
       "  <tbody>\n",
       "    <tr>\n",
       "      <th rowspan=\"8\" valign=\"top\">kaggle_energy</th>\n",
       "      <th rowspan=\"8\" valign=\"top\">80f659b8-cbef-4edc-957f-5a738b601867</th>\n",
       "      <th>CPForecaster</th>\n",
       "      <td>0.043216</td>\n",
       "      <td>0.032131</td>\n",
       "      <td>0.066962</td>\n",
       "      <td>0.049346</td>\n",
       "    </tr>\n",
       "    <tr>\n",
       "      <th>DCTForecaster</th>\n",
       "      <td>0.008613</td>\n",
       "      <td>0.005231</td>\n",
       "      <td>0.070300</td>\n",
       "      <td>0.053296</td>\n",
       "    </tr>\n",
       "    <tr>\n",
       "      <th>DFTForecaster</th>\n",
       "      <td>0.008421</td>\n",
       "      <td>0.005062</td>\n",
       "      <td>0.063173</td>\n",
       "      <td>0.048331</td>\n",
       "    </tr>\n",
       "    <tr>\n",
       "      <th>FourierBasisRegressionForecaster</th>\n",
       "      <td>0.060901</td>\n",
       "      <td>0.045666</td>\n",
       "      <td>0.068695</td>\n",
       "      <td>0.052270</td>\n",
       "    </tr>\n",
       "    <tr>\n",
       "      <th>HoltWintersForecaster</th>\n",
       "      <td>0.030205</td>\n",
       "      <td>0.021144</td>\n",
       "      <td>0.069576</td>\n",
       "      <td>0.050830</td>\n",
       "    </tr>\n",
       "    <tr>\n",
       "      <th>SmoothingCPForecaster</th>\n",
       "      <td>0.047229</td>\n",
       "      <td>0.035215</td>\n",
       "      <td>0.064541</td>\n",
       "      <td>0.048072</td>\n",
       "    </tr>\n",
       "    <tr>\n",
       "      <th>SmoothingTuckerForecaster</th>\n",
       "      <td>0.052015</td>\n",
       "      <td>0.038619</td>\n",
       "      <td>0.063208</td>\n",
       "      <td>0.047174</td>\n",
       "    </tr>\n",
       "    <tr>\n",
       "      <th>TuckerForecaster</th>\n",
       "      <td>0.051917</td>\n",
       "      <td>0.038650</td>\n",
       "      <td>0.063398</td>\n",
       "      <td>0.047331</td>\n",
       "    </tr>\n",
       "  </tbody>\n",
       "</table>\n",
       "</div>"
      ],
      "text/plain": [
       "                                                                                      in_rmse  \\\n",
       "dataset       experiment_id                        model                                        \n",
       "kaggle_energy 80f659b8-cbef-4edc-957f-5a738b601867 CPForecaster                      0.043216   \n",
       "                                                   DCTForecaster                     0.008613   \n",
       "                                                   DFTForecaster                     0.008421   \n",
       "                                                   FourierBasisRegressionForecaster  0.060901   \n",
       "                                                   HoltWintersForecaster             0.030205   \n",
       "                                                   SmoothingCPForecaster             0.047229   \n",
       "                                                   SmoothingTuckerForecaster         0.052015   \n",
       "                                                   TuckerForecaster                  0.051917   \n",
       "\n",
       "                                                                                       in_mad  \\\n",
       "dataset       experiment_id                        model                                        \n",
       "kaggle_energy 80f659b8-cbef-4edc-957f-5a738b601867 CPForecaster                      0.032131   \n",
       "                                                   DCTForecaster                     0.005231   \n",
       "                                                   DFTForecaster                     0.005062   \n",
       "                                                   FourierBasisRegressionForecaster  0.045666   \n",
       "                                                   HoltWintersForecaster             0.021144   \n",
       "                                                   SmoothingCPForecaster             0.035215   \n",
       "                                                   SmoothingTuckerForecaster         0.038619   \n",
       "                                                   TuckerForecaster                  0.038650   \n",
       "\n",
       "                                                                                     out_rmse  \\\n",
       "dataset       experiment_id                        model                                        \n",
       "kaggle_energy 80f659b8-cbef-4edc-957f-5a738b601867 CPForecaster                      0.066962   \n",
       "                                                   DCTForecaster                     0.070300   \n",
       "                                                   DFTForecaster                     0.063173   \n",
       "                                                   FourierBasisRegressionForecaster  0.068695   \n",
       "                                                   HoltWintersForecaster             0.069576   \n",
       "                                                   SmoothingCPForecaster             0.064541   \n",
       "                                                   SmoothingTuckerForecaster         0.063208   \n",
       "                                                   TuckerForecaster                  0.063398   \n",
       "\n",
       "                                                                                      out_mad  \n",
       "dataset       experiment_id                        model                                       \n",
       "kaggle_energy 80f659b8-cbef-4edc-957f-5a738b601867 CPForecaster                      0.049346  \n",
       "                                                   DCTForecaster                     0.053296  \n",
       "                                                   DFTForecaster                     0.048331  \n",
       "                                                   FourierBasisRegressionForecaster  0.052270  \n",
       "                                                   HoltWintersForecaster             0.050830  \n",
       "                                                   SmoothingCPForecaster             0.048072  \n",
       "                                                   SmoothingTuckerForecaster         0.047174  \n",
       "                                                   TuckerForecaster                  0.047331  "
      ]
     },
     "execution_count": 39,
     "metadata": {},
     "output_type": "execute_result"
    }
   ],
   "source": [
    "mean_errors.groupby([\"dataset\", \"experiment_id\", \"model\"])[\"in_rmse\", \"in_mad\", \"out_rmse\", \"out_mad\"].min()"
   ]
  },
  {
   "cell_type": "code",
   "execution_count": 7,
   "metadata": {},
   "outputs": [],
   "source": [
    "# results.to_pickle(\"results/traffic_better_wfbm.pkl\")"
   ]
  },
  {
   "cell_type": "code",
   "execution_count": null,
   "metadata": {},
   "outputs": [],
   "source": []
  }
 ],
 "metadata": {
  "kernelspec": {
   "display_name": "Python 3",
   "language": "python",
   "name": "python3"
  },
  "language_info": {
   "codemirror_mode": {
    "name": "ipython",
    "version": 3
   },
   "file_extension": ".py",
   "mimetype": "text/x-python",
   "name": "python",
   "nbconvert_exporter": "python",
   "pygments_lexer": "ipython3",
   "version": "3.8.5"
  }
 },
 "nbformat": 4,
 "nbformat_minor": 4
}
