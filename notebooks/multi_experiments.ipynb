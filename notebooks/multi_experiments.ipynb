{
 "cells": [
  {
   "cell_type": "code",
   "execution_count": 1,
   "metadata": {},
   "outputs": [],
   "source": [
    "from typing import List, Dict\n",
    "\n",
    "import matplotlib.pyplot as plt\n",
    "import pandas as pd\n",
    "import numpy as np\n",
    "import tensorly as tl\n",
    "from gluonts.dataset.util import to_pandas\n",
    "\n",
    "\n",
    "from tensorseason.utils import (\n",
    "    get_gluonts_dataset,\n",
    "    mad,\n",
    "    rmse, \n",
    "    get_param_sweep,\n",
    "    trend_cycle_decompose,\n",
    ")\n",
    "\n",
    "from tensorseason.forecaster import (\n",
    "    DCTForecaster, DFTForecaster, HoltWintersForecaster, CPForecaster, TuckerForecaster\n",
    ")\n",
    "from tensorseason.experiment import SingleForecasterExperiment, TensorSeasonExperiment"
   ]
  },
  {
   "cell_type": "code",
   "execution_count": 2,
   "metadata": {},
   "outputs": [],
   "source": [
    "ts_experiments = TensorSeasonExperiment(\n",
    "    dataset_name=\"traffic_75\",\n",
    "    folds=(24, 7),\n",
    "    nr_in_cycles=70,\n",
    "    nr_examples=5,\n",
    "    n_jobs=4,\n",
    ")"
   ]
  },
  {
   "cell_type": "code",
   "execution_count": 3,
   "metadata": {},
   "outputs": [
    {
     "data": {
      "text/plain": [
       "5"
      ]
     },
     "execution_count": 3,
     "metadata": {},
     "output_type": "execute_result"
    }
   ],
   "source": [
    "len(ts_experiments._get_dataset())"
   ]
  },
  {
   "cell_type": "code",
   "execution_count": 4,
   "metadata": {},
   "outputs": [
    {
     "name": "stderr",
     "output_type": "stream",
     "text": [
      "100%|██████████| 5/5 [00:00<00:00, 29.11it/s]\n"
     ]
    }
   ],
   "source": [
    "results = ts_experiments.run()"
   ]
  },
  {
   "cell_type": "code",
   "execution_count": 5,
   "metadata": {},
   "outputs": [
    {
     "name": "stderr",
     "output_type": "stream",
     "text": [
      "/Users/caner/VENVS/GluonTS/lib/python3.6/site-packages/ipykernel_launcher.py:1: FutureWarning: Indexing with multiple keys (implicitly converted to a tuple of keys) will be deprecated, use a list instead.\n",
      "  \"\"\"Entry point for launching an IPython kernel.\n"
     ]
    }
   ],
   "source": [
    "mean_errors = results.groupby([\"dataset\", \"experiment_id\", \"model\", \"parameters\"])[\"in_rmse\", \"in_mad\", \"out_rmse\", \"out_mad\"].mean()"
   ]
  },
  {
   "cell_type": "code",
   "execution_count": 6,
   "metadata": {},
   "outputs": [
    {
     "name": "stderr",
     "output_type": "stream",
     "text": [
      "/Users/caner/VENVS/GluonTS/lib/python3.6/site-packages/ipykernel_launcher.py:1: FutureWarning: Indexing with multiple keys (implicitly converted to a tuple of keys) will be deprecated, use a list instead.\n",
      "  \"\"\"Entry point for launching an IPython kernel.\n"
     ]
    },
    {
     "data": {
      "text/html": [
       "<div>\n",
       "<style scoped>\n",
       "    .dataframe tbody tr th:only-of-type {\n",
       "        vertical-align: middle;\n",
       "    }\n",
       "\n",
       "    .dataframe tbody tr th {\n",
       "        vertical-align: top;\n",
       "    }\n",
       "\n",
       "    .dataframe thead th {\n",
       "        text-align: right;\n",
       "    }\n",
       "</style>\n",
       "<table border=\"1\" class=\"dataframe\">\n",
       "  <thead>\n",
       "    <tr style=\"text-align: right;\">\n",
       "      <th></th>\n",
       "      <th></th>\n",
       "      <th></th>\n",
       "      <th>in_rmse</th>\n",
       "      <th>in_mad</th>\n",
       "      <th>out_rmse</th>\n",
       "      <th>out_mad</th>\n",
       "    </tr>\n",
       "    <tr>\n",
       "      <th>dataset</th>\n",
       "      <th>experiment_id</th>\n",
       "      <th>model</th>\n",
       "      <th></th>\n",
       "      <th></th>\n",
       "      <th></th>\n",
       "      <th></th>\n",
       "    </tr>\n",
       "  </thead>\n",
       "  <tbody>\n",
       "    <tr>\n",
       "      <th rowspan=\"6\" valign=\"top\">traffic_75</th>\n",
       "      <th rowspan=\"6\" valign=\"top\">e5853904-af92-4919-9bb2-c16f42b3bdcc</th>\n",
       "      <th>CPForecaster</th>\n",
       "      <td>0.032323</td>\n",
       "      <td>0.018346</td>\n",
       "      <td>0.055658</td>\n",
       "      <td>0.031310</td>\n",
       "    </tr>\n",
       "    <tr>\n",
       "      <th>DCTForecaster</th>\n",
       "      <td>0.048375</td>\n",
       "      <td>0.030415</td>\n",
       "      <td>0.069953</td>\n",
       "      <td>0.048233</td>\n",
       "    </tr>\n",
       "    <tr>\n",
       "      <th>DFTForecaster</th>\n",
       "      <td>0.046614</td>\n",
       "      <td>0.028717</td>\n",
       "      <td>0.061448</td>\n",
       "      <td>0.039781</td>\n",
       "    </tr>\n",
       "    <tr>\n",
       "      <th>FourierBasisRegressionForecaster</th>\n",
       "      <td>0.056260</td>\n",
       "      <td>0.031828</td>\n",
       "      <td>0.060841</td>\n",
       "      <td>0.037995</td>\n",
       "    </tr>\n",
       "    <tr>\n",
       "      <th>HoltWintersForecaster</th>\n",
       "      <td>0.053590</td>\n",
       "      <td>0.028670</td>\n",
       "      <td>0.057714</td>\n",
       "      <td>0.034508</td>\n",
       "    </tr>\n",
       "    <tr>\n",
       "      <th>TuckerForecaster</th>\n",
       "      <td>0.052960</td>\n",
       "      <td>0.030542</td>\n",
       "      <td>0.057585</td>\n",
       "      <td>0.033633</td>\n",
       "    </tr>\n",
       "  </tbody>\n",
       "</table>\n",
       "</div>"
      ],
      "text/plain": [
       "                                                                                   in_rmse  \\\n",
       "dataset    experiment_id                        model                                        \n",
       "traffic_75 e5853904-af92-4919-9bb2-c16f42b3bdcc CPForecaster                      0.032323   \n",
       "                                                DCTForecaster                     0.048375   \n",
       "                                                DFTForecaster                     0.046614   \n",
       "                                                FourierBasisRegressionForecaster  0.056260   \n",
       "                                                HoltWintersForecaster             0.053590   \n",
       "                                                TuckerForecaster                  0.052960   \n",
       "\n",
       "                                                                                    in_mad  \\\n",
       "dataset    experiment_id                        model                                        \n",
       "traffic_75 e5853904-af92-4919-9bb2-c16f42b3bdcc CPForecaster                      0.018346   \n",
       "                                                DCTForecaster                     0.030415   \n",
       "                                                DFTForecaster                     0.028717   \n",
       "                                                FourierBasisRegressionForecaster  0.031828   \n",
       "                                                HoltWintersForecaster             0.028670   \n",
       "                                                TuckerForecaster                  0.030542   \n",
       "\n",
       "                                                                                  out_rmse  \\\n",
       "dataset    experiment_id                        model                                        \n",
       "traffic_75 e5853904-af92-4919-9bb2-c16f42b3bdcc CPForecaster                      0.055658   \n",
       "                                                DCTForecaster                     0.069953   \n",
       "                                                DFTForecaster                     0.061448   \n",
       "                                                FourierBasisRegressionForecaster  0.060841   \n",
       "                                                HoltWintersForecaster             0.057714   \n",
       "                                                TuckerForecaster                  0.057585   \n",
       "\n",
       "                                                                                   out_mad  \n",
       "dataset    experiment_id                        model                                       \n",
       "traffic_75 e5853904-af92-4919-9bb2-c16f42b3bdcc CPForecaster                      0.031310  \n",
       "                                                DCTForecaster                     0.048233  \n",
       "                                                DFTForecaster                     0.039781  \n",
       "                                                FourierBasisRegressionForecaster  0.037995  \n",
       "                                                HoltWintersForecaster             0.034508  \n",
       "                                                TuckerForecaster                  0.033633  "
      ]
     },
     "execution_count": 6,
     "metadata": {},
     "output_type": "execute_result"
    }
   ],
   "source": [
    "mean_errors.groupby([\"dataset\", \"experiment_id\", \"model\"])[\"in_rmse\", \"in_mad\", \"out_rmse\", \"out_mad\"].min()"
   ]
  },
  {
   "cell_type": "code",
   "execution_count": 7,
   "metadata": {},
   "outputs": [],
   "source": [
    "# results.to_pickle(\"results/traffic_better_wfbm.pkl\")"
   ]
  },
  {
   "cell_type": "code",
   "execution_count": null,
   "metadata": {},
   "outputs": [],
   "source": []
  }
 ],
 "metadata": {
  "kernelspec": {
   "display_name": "Python 3",
   "language": "python",
   "name": "python3"
  },
  "language_info": {
   "codemirror_mode": {
    "name": "ipython",
    "version": 3
   },
   "file_extension": ".py",
   "mimetype": "text/x-python",
   "name": "python",
   "nbconvert_exporter": "python",
   "pygments_lexer": "ipython3",
   "version": "3.6.5"
  }
 },
 "nbformat": 4,
 "nbformat_minor": 4
}
