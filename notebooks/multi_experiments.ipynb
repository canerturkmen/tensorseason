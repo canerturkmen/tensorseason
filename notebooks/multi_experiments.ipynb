{
 "cells": [
  {
   "cell_type": "code",
   "execution_count": 1,
   "metadata": {},
   "outputs": [],
   "source": [
    "from typing import List, Dict\n",
    "\n",
    "import matplotlib.pyplot as plt\n",
    "import pandas as pd\n",
    "import numpy as np\n",
    "import tensorly as tl\n",
    "from gluonts.dataset.util import to_pandas\n",
    "\n",
    "\n",
    "from tensorseason.utils import (\n",
    "    get_gluonts_dataset,\n",
    "    mad,\n",
    "    rmse, \n",
    "    get_param_sweep,\n",
    "    trend_cycle_decompose,\n",
    ")\n",
    "\n",
    "from tensorseason.forecaster import (\n",
    "    DCTForecaster, DFTForecaster, HoltWintersForecaster, CPForecaster, TuckerForecaster\n",
    ")\n",
    "from tensorseason.experiment import SingleForecasterExperiment, TensorSeasonExperiment"
   ]
  },
  {
   "cell_type": "code",
   "execution_count": 10,
   "metadata": {},
   "outputs": [],
   "source": [
    "ts_experiments = TensorSeasonExperiment(\n",
    "    dataset_name=\"traffic_75\",\n",
    "    folds=(24, 7),\n",
    "    nr_in_cycles=70,\n",
    "    nr_examples=15,\n",
    "    n_jobs=1,\n",
    ")"
   ]
  },
  {
   "cell_type": "code",
   "execution_count": 11,
   "metadata": {},
   "outputs": [
    {
     "data": {
      "text/plain": [
       "15"
      ]
     },
     "execution_count": 11,
     "metadata": {},
     "output_type": "execute_result"
    }
   ],
   "source": [
    "len(ts_experiments._get_dataset())"
   ]
  },
  {
   "cell_type": "code",
   "execution_count": 9,
   "metadata": {},
   "outputs": [
    {
     "name": "stderr",
     "output_type": "stream",
     "text": [
      " 80%|████████  | 4/5 [05:30<01:20, 80.34s/it]ERROR:root:Internal Python error in the inspect module.\n",
      "Below is the traceback from this internal error.\n",
      "\n",
      "INFO:root:\n",
      "Unfortunately, your original traceback can not be constructed.\n",
      "\n"
     ]
    },
    {
     "name": "stdout",
     "output_type": "stream",
     "text": [
      "Traceback (most recent call last):\n",
      "  File \"/Users/caner/VENVS/GluonTS/lib/python3.6/site-packages/IPython/core/interactiveshell.py\", line 3326, in run_code\n",
      "    exec(code_obj, self.user_global_ns, self.user_ns)\n",
      "  File \"<ipython-input-9-afbff0a2e167>\", line 1, in <module>\n",
      "    results = ts_experiments.run()\n",
      "  File \"/Users/caner/code/tensorseason/src/tensorseason/experiment.py\", line 195, in run\n",
      "    from joblib import Parallel, delayed\n",
      "  File \"/Users/caner/code/tensorseason/src/tensorseason/experiment.py\", line 195, in <listcomp>\n",
      "    from joblib import Parallel, delayed\n",
      "  File \"/Users/caner/code/tensorseason/src/tensorseason/experiment.py\", line 163, in process_dataset\n",
      "    vals = vals / (vals.max() - vals.min())  # scale the residuals\n",
      "  File \"/Users/caner/code/tensorseason/src/tensorseason/experiment.py\", line 48, in __call__\n",
      "    result = fcaster(vals, nr_in_cycles=nr_in_cycles)\n",
      "  File \"/Users/caner/code/tensorseason/src/tensorseason/forecaster.py\", line 73, in __call__\n",
      "    in_sample_approx, forecast = self.run_forecast(vals, nr_in_cycles)\n",
      "  File \"/Users/caner/code/tensorseason/src/tensorseason/forecaster.py\", line 191, in run_forecast\n",
      "    in_sample_approx = self.tensor_reconstruction(data_in)\n",
      "  File \"/Users/caner/code/tensorseason/src/tensorseason/forecaster.py\", line 215, in tensor_reconstruction\n",
      "    fac = parafac(tensor, rank=self.nr_params, n_iter_max=TENSOR_MAX_ITER, tol=1.0e-15, linesearch=True)\n",
      "  File \"/Users/caner/VENVS/GluonTS/lib/python3.6/site-packages/tensorly/decomposition/_cp.py\", line 326, in parafac\n",
      "    mttkrp = unfolding_dot_khatri_rao(tensor, (None, factors), mode)\n",
      "  File \"/Users/caner/VENVS/GluonTS/lib/python3.6/site-packages/tensorly/cp_tensor.py\", line 535, in unfolding_dot_khatri_rao\n",
      "    component = multi_mode_dot(tensor, [f[:, r] for f in factors], skip=mode)\n",
      "  File \"/Users/caner/VENVS/GluonTS/lib/python3.6/site-packages/tensorly/tenalg/__init__.py\", line 80, in dynamically_dispatched_fun\n",
      "    fun = getattr(current_backend, name)(*args, **kwargs)\n",
      "  File \"/Users/caner/VENVS/GluonTS/lib/python3.6/site-packages/tensorly/tenalg/core_tenalg/n_mode_product.py\", line 123, in multi_mode_dot\n",
      "    res = mode_dot(res, matrix_or_vec, mode - decrement)\n",
      "  File \"/Users/caner/VENVS/GluonTS/lib/python3.6/site-packages/tensorly/tenalg/core_tenalg/n_mode_product.py\", line 64, in mode_dot\n",
      "    res = T.dot(matrix_or_vector, unfold(tensor, mode))\n",
      "  File \"/Users/caner/VENVS/GluonTS/lib/python3.6/site-packages/tensorly/backend/__init__.py\", line 161, in inner\n",
      "    return _get_backend_method(name)(*args, **kwargs)\n",
      "  File \"/Users/caner/VENVS/GluonTS/lib/python3.6/site-packages/tensorly/backend/numpy_backend.py\", line 38, in dot\n",
      "    return a.dot(b)\n",
      "KeyboardInterrupt\n",
      "\n",
      "During handling of the above exception, another exception occurred:\n",
      "\n",
      "Traceback (most recent call last):\n",
      "  File \"/Users/caner/VENVS/GluonTS/lib/python3.6/site-packages/IPython/core/interactiveshell.py\", line 2040, in showtraceback\n",
      "    stb = value._render_traceback_()\n",
      "AttributeError: 'KeyboardInterrupt' object has no attribute '_render_traceback_'\n",
      "\n",
      "During handling of the above exception, another exception occurred:\n",
      "\n",
      "Traceback (most recent call last):\n",
      "  File \"/Users/caner/VENVS/GluonTS/lib/python3.6/site-packages/IPython/core/ultratb.py\", line 1101, in get_records\n",
      "    return _fixed_getinnerframes(etb, number_of_lines_of_context, tb_offset)\n",
      "  File \"/Users/caner/VENVS/GluonTS/lib/python3.6/site-packages/IPython/core/ultratb.py\", line 319, in wrapped\n",
      "    return f(*args, **kwargs)\n",
      "  File \"/Users/caner/VENVS/GluonTS/lib/python3.6/site-packages/IPython/core/ultratb.py\", line 353, in _fixed_getinnerframes\n",
      "    records = fix_frame_records_filenames(inspect.getinnerframes(etb, context))\n",
      "  File \"/Users/caner/.pyenv/versions/3.6.5/lib/python3.6/inspect.py\", line 1483, in getinnerframes\n",
      "    frameinfo = (tb.tb_frame,) + getframeinfo(tb, context)\n",
      "  File \"/Users/caner/.pyenv/versions/3.6.5/lib/python3.6/inspect.py\", line 1441, in getframeinfo\n",
      "    filename = getsourcefile(frame) or getfile(frame)\n",
      "  File \"/Users/caner/.pyenv/versions/3.6.5/lib/python3.6/inspect.py\", line 696, in getsourcefile\n",
      "    if getattr(getmodule(object, filename), '__loader__', None) is not None:\n",
      "  File \"/Users/caner/.pyenv/versions/3.6.5/lib/python3.6/inspect.py\", line 742, in getmodule\n",
      "    os.path.realpath(f)] = module.__name__\n",
      "  File \"/Users/caner/.pyenv/versions/3.6.5/lib/python3.6/posixpath.py\", line 388, in realpath\n",
      "    path, ok = _joinrealpath(filename[:0], filename, {})\n",
      "  File \"/Users/caner/.pyenv/versions/3.6.5/lib/python3.6/posixpath.py\", line 422, in _joinrealpath\n",
      "    if not islink(newpath):\n",
      "  File \"/Users/caner/.pyenv/versions/3.6.5/lib/python3.6/posixpath.py\", line 171, in islink\n",
      "    st = os.lstat(path)\n",
      "KeyboardInterrupt\n"
     ]
    },
    {
     "ename": "KeyboardInterrupt",
     "evalue": "",
     "output_type": "error",
     "traceback": [
      "\u001b[0;31m---------------------------------------------------------------------------\u001b[0m"
     ]
    }
   ],
   "source": [
    "results = ts_experiments.run()"
   ]
  },
  {
   "cell_type": "code",
   "execution_count": 5,
   "metadata": {},
   "outputs": [
    {
     "name": "stderr",
     "output_type": "stream",
     "text": [
      "/Users/caner/VENVS/GluonTS/lib/python3.6/site-packages/ipykernel_launcher.py:1: FutureWarning: Indexing with multiple keys (implicitly converted to a tuple of keys) will be deprecated, use a list instead.\n",
      "  \"\"\"Entry point for launching an IPython kernel.\n"
     ]
    }
   ],
   "source": [
    "mean_errors = results.groupby([\"dataset\", \"experiment_id\", \"model\", \"parameters\"])[\"in_rmse\", \"in_mad\", \"out_rmse\", \"out_mad\"].mean()"
   ]
  },
  {
   "cell_type": "code",
   "execution_count": 6,
   "metadata": {},
   "outputs": [
    {
     "name": "stderr",
     "output_type": "stream",
     "text": [
      "/Users/caner/VENVS/GluonTS/lib/python3.6/site-packages/ipykernel_launcher.py:1: FutureWarning: Indexing with multiple keys (implicitly converted to a tuple of keys) will be deprecated, use a list instead.\n",
      "  \"\"\"Entry point for launching an IPython kernel.\n"
     ]
    },
    {
     "data": {
      "text/html": [
       "<div>\n",
       "<style scoped>\n",
       "    .dataframe tbody tr th:only-of-type {\n",
       "        vertical-align: middle;\n",
       "    }\n",
       "\n",
       "    .dataframe tbody tr th {\n",
       "        vertical-align: top;\n",
       "    }\n",
       "\n",
       "    .dataframe thead th {\n",
       "        text-align: right;\n",
       "    }\n",
       "</style>\n",
       "<table border=\"1\" class=\"dataframe\">\n",
       "  <thead>\n",
       "    <tr style=\"text-align: right;\">\n",
       "      <th></th>\n",
       "      <th></th>\n",
       "      <th></th>\n",
       "      <th>in_rmse</th>\n",
       "      <th>in_mad</th>\n",
       "      <th>out_rmse</th>\n",
       "      <th>out_mad</th>\n",
       "    </tr>\n",
       "    <tr>\n",
       "      <th>dataset</th>\n",
       "      <th>experiment_id</th>\n",
       "      <th>model</th>\n",
       "      <th></th>\n",
       "      <th></th>\n",
       "      <th></th>\n",
       "      <th></th>\n",
       "    </tr>\n",
       "  </thead>\n",
       "  <tbody>\n",
       "    <tr>\n",
       "      <th rowspan=\"6\" valign=\"top\">traffic_75</th>\n",
       "      <th rowspan=\"6\" valign=\"top\">e5853904-af92-4919-9bb2-c16f42b3bdcc</th>\n",
       "      <th>CPForecaster</th>\n",
       "      <td>0.032323</td>\n",
       "      <td>0.018346</td>\n",
       "      <td>0.055658</td>\n",
       "      <td>0.031310</td>\n",
       "    </tr>\n",
       "    <tr>\n",
       "      <th>DCTForecaster</th>\n",
       "      <td>0.048375</td>\n",
       "      <td>0.030415</td>\n",
       "      <td>0.069953</td>\n",
       "      <td>0.048233</td>\n",
       "    </tr>\n",
       "    <tr>\n",
       "      <th>DFTForecaster</th>\n",
       "      <td>0.046614</td>\n",
       "      <td>0.028717</td>\n",
       "      <td>0.061448</td>\n",
       "      <td>0.039781</td>\n",
       "    </tr>\n",
       "    <tr>\n",
       "      <th>FourierBasisRegressionForecaster</th>\n",
       "      <td>0.056260</td>\n",
       "      <td>0.031828</td>\n",
       "      <td>0.060841</td>\n",
       "      <td>0.037995</td>\n",
       "    </tr>\n",
       "    <tr>\n",
       "      <th>HoltWintersForecaster</th>\n",
       "      <td>0.053590</td>\n",
       "      <td>0.028670</td>\n",
       "      <td>0.057714</td>\n",
       "      <td>0.034508</td>\n",
       "    </tr>\n",
       "    <tr>\n",
       "      <th>TuckerForecaster</th>\n",
       "      <td>0.052960</td>\n",
       "      <td>0.030542</td>\n",
       "      <td>0.057585</td>\n",
       "      <td>0.033633</td>\n",
       "    </tr>\n",
       "  </tbody>\n",
       "</table>\n",
       "</div>"
      ],
      "text/plain": [
       "                                                                                   in_rmse  \\\n",
       "dataset    experiment_id                        model                                        \n",
       "traffic_75 e5853904-af92-4919-9bb2-c16f42b3bdcc CPForecaster                      0.032323   \n",
       "                                                DCTForecaster                     0.048375   \n",
       "                                                DFTForecaster                     0.046614   \n",
       "                                                FourierBasisRegressionForecaster  0.056260   \n",
       "                                                HoltWintersForecaster             0.053590   \n",
       "                                                TuckerForecaster                  0.052960   \n",
       "\n",
       "                                                                                    in_mad  \\\n",
       "dataset    experiment_id                        model                                        \n",
       "traffic_75 e5853904-af92-4919-9bb2-c16f42b3bdcc CPForecaster                      0.018346   \n",
       "                                                DCTForecaster                     0.030415   \n",
       "                                                DFTForecaster                     0.028717   \n",
       "                                                FourierBasisRegressionForecaster  0.031828   \n",
       "                                                HoltWintersForecaster             0.028670   \n",
       "                                                TuckerForecaster                  0.030542   \n",
       "\n",
       "                                                                                  out_rmse  \\\n",
       "dataset    experiment_id                        model                                        \n",
       "traffic_75 e5853904-af92-4919-9bb2-c16f42b3bdcc CPForecaster                      0.055658   \n",
       "                                                DCTForecaster                     0.069953   \n",
       "                                                DFTForecaster                     0.061448   \n",
       "                                                FourierBasisRegressionForecaster  0.060841   \n",
       "                                                HoltWintersForecaster             0.057714   \n",
       "                                                TuckerForecaster                  0.057585   \n",
       "\n",
       "                                                                                   out_mad  \n",
       "dataset    experiment_id                        model                                       \n",
       "traffic_75 e5853904-af92-4919-9bb2-c16f42b3bdcc CPForecaster                      0.031310  \n",
       "                                                DCTForecaster                     0.048233  \n",
       "                                                DFTForecaster                     0.039781  \n",
       "                                                FourierBasisRegressionForecaster  0.037995  \n",
       "                                                HoltWintersForecaster             0.034508  \n",
       "                                                TuckerForecaster                  0.033633  "
      ]
     },
     "execution_count": 6,
     "metadata": {},
     "output_type": "execute_result"
    }
   ],
   "source": [
    "mean_errors.groupby([\"dataset\", \"experiment_id\", \"model\"])[\"in_rmse\", \"in_mad\", \"out_rmse\", \"out_mad\"].min()"
   ]
  },
  {
   "cell_type": "code",
   "execution_count": 7,
   "metadata": {},
   "outputs": [],
   "source": [
    "# results.to_pickle(\"results/traffic_better_wfbm.pkl\")"
   ]
  },
  {
   "cell_type": "code",
   "execution_count": null,
   "metadata": {},
   "outputs": [],
   "source": []
  }
 ],
 "metadata": {
  "kernelspec": {
   "display_name": "Python 3",
   "language": "python",
   "name": "python3"
  },
  "language_info": {
   "codemirror_mode": {
    "name": "ipython",
    "version": 3
   },
   "file_extension": ".py",
   "mimetype": "text/x-python",
   "name": "python",
   "nbconvert_exporter": "python",
   "pygments_lexer": "ipython3",
   "version": "3.6.5"
  }
 },
 "nbformat": 4,
 "nbformat_minor": 4
}
