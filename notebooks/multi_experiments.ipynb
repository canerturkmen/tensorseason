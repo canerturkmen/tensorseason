{
 "cells": [
  {
   "cell_type": "code",
   "execution_count": 1,
   "metadata": {},
   "outputs": [],
   "source": [
    "from typing import List, Dict\n",
    "\n",
    "import matplotlib.pyplot as plt\n",
    "import pandas as pd\n",
    "import numpy as np\n",
    "import tensorly as tl\n",
    "from gluonts.dataset.util import to_pandas\n",
    "\n",
    "\n",
    "from tensorseason.utils import (\n",
    "    get_gluonts_dataset,\n",
    "    mad,\n",
    "    rmse, \n",
    "    get_param_sweep,\n",
    "    trend_cycle_decompose,\n",
    ")\n",
    "\n",
    "from tensorseason.forecaster import (\n",
    "    DCTForecaster, DFTForecaster, HoltWintersForecaster, CPForecaster, TuckerForecaster\n",
    ")\n",
    "from tensorseason.experiment import SingleForecasterExperiment, TensorSeasonExperiment"
   ]
  },
  {
   "cell_type": "code",
   "execution_count": 2,
   "metadata": {},
   "outputs": [],
   "source": [
    "ts_experiments = TensorSeasonExperiment(\n",
    "    dataset_name=\"traffic_75\",\n",
    "    folds=(24, 7),\n",
    "    nr_in_cycles=78,\n",
    "    nr_examples=20,\n",
    "    n_jobs=1,\n",
    "    dataset_path=\"/Users/caner/code/tensorseason/datasets/\"\n",
    ")"
   ]
  },
  {
   "cell_type": "code",
   "execution_count": 3,
   "metadata": {},
   "outputs": [
    {
     "data": {
      "text/plain": [
       "20"
      ]
     },
     "execution_count": 3,
     "metadata": {},
     "output_type": "execute_result"
    }
   ],
   "source": [
    "len(ts_experiments._get_dataset())"
   ]
  },
  {
   "cell_type": "code",
   "execution_count": 4,
   "metadata": {},
   "outputs": [
    {
     "name": "stderr",
     "output_type": "stream",
     "text": [
      "100%|██████████| 20/20 [02:56<00:00,  8.82s/it]\n"
     ]
    }
   ],
   "source": [
    "results = ts_experiments.run()"
   ]
  },
  {
   "cell_type": "code",
   "execution_count": 5,
   "metadata": {},
   "outputs": [
    {
     "name": "stderr",
     "output_type": "stream",
     "text": [
      "<ipython-input-5-f8e0339828dc>:1: FutureWarning: Indexing with multiple keys (implicitly converted to a tuple of keys) will be deprecated, use a list instead.\n",
      "  mean_errors = results.groupby([\"dataset\", \"experiment_id\", \"model\", \"parameters\"])[\"in_rmse\", \"in_mad\", \"out_rmse\", \"out_mad\"].mean()\n"
     ]
    }
   ],
   "source": [
    "mean_errors = results.groupby([\"dataset\", \"experiment_id\", \"model\", \"parameters\"])[\"in_rmse\", \"in_mad\", \"out_rmse\", \"out_mad\"].mean()"
   ]
  },
  {
   "cell_type": "code",
   "execution_count": 6,
   "metadata": {},
   "outputs": [
    {
     "name": "stderr",
     "output_type": "stream",
     "text": [
      "<ipython-input-6-13dde2427689>:1: FutureWarning: Indexing with multiple keys (implicitly converted to a tuple of keys) will be deprecated, use a list instead.\n",
      "  mean_errors.groupby([\"dataset\", \"experiment_id\", \"model\"])[\"in_rmse\", \"in_mad\", \"out_rmse\", \"out_mad\"].min()\n"
     ]
    },
    {
     "data": {
      "text/html": [
       "<div>\n",
       "<style scoped>\n",
       "    .dataframe tbody tr th:only-of-type {\n",
       "        vertical-align: middle;\n",
       "    }\n",
       "\n",
       "    .dataframe tbody tr th {\n",
       "        vertical-align: top;\n",
       "    }\n",
       "\n",
       "    .dataframe thead th {\n",
       "        text-align: right;\n",
       "    }\n",
       "</style>\n",
       "<table border=\"1\" class=\"dataframe\">\n",
       "  <thead>\n",
       "    <tr style=\"text-align: right;\">\n",
       "      <th></th>\n",
       "      <th></th>\n",
       "      <th></th>\n",
       "      <th>in_rmse</th>\n",
       "      <th>in_mad</th>\n",
       "      <th>out_rmse</th>\n",
       "      <th>out_mad</th>\n",
       "    </tr>\n",
       "    <tr>\n",
       "      <th>dataset</th>\n",
       "      <th>experiment_id</th>\n",
       "      <th>model</th>\n",
       "      <th></th>\n",
       "      <th></th>\n",
       "      <th></th>\n",
       "      <th></th>\n",
       "    </tr>\n",
       "  </thead>\n",
       "  <tbody>\n",
       "    <tr>\n",
       "      <th rowspan=\"8\" valign=\"top\">traffic_75</th>\n",
       "      <th rowspan=\"8\" valign=\"top\">9d9778a6-b67e-4d07-a0d3-39c427d3fd53</th>\n",
       "      <th>CPForecaster</th>\n",
       "      <td>0.031425</td>\n",
       "      <td>0.017783</td>\n",
       "      <td>0.049670</td>\n",
       "      <td>0.026051</td>\n",
       "    </tr>\n",
       "    <tr>\n",
       "      <th>DCTForecaster</th>\n",
       "      <td>0.044957</td>\n",
       "      <td>0.027815</td>\n",
       "      <td>0.070922</td>\n",
       "      <td>0.049064</td>\n",
       "    </tr>\n",
       "    <tr>\n",
       "      <th>DFTForecaster</th>\n",
       "      <td>0.043290</td>\n",
       "      <td>0.026243</td>\n",
       "      <td>0.056860</td>\n",
       "      <td>0.035573</td>\n",
       "    </tr>\n",
       "    <tr>\n",
       "      <th>FourierBasisRegressionForecaster</th>\n",
       "      <td>0.052103</td>\n",
       "      <td>0.030174</td>\n",
       "      <td>0.054091</td>\n",
       "      <td>0.031454</td>\n",
       "    </tr>\n",
       "    <tr>\n",
       "      <th>HoltWintersForecaster</th>\n",
       "      <td>0.025525</td>\n",
       "      <td>0.012433</td>\n",
       "      <td>0.049688</td>\n",
       "      <td>0.024712</td>\n",
       "    </tr>\n",
       "    <tr>\n",
       "      <th>SmoothingCPForecaster</th>\n",
       "      <td>0.036885</td>\n",
       "      <td>0.019939</td>\n",
       "      <td>0.047749</td>\n",
       "      <td>0.024829</td>\n",
       "    </tr>\n",
       "    <tr>\n",
       "      <th>SmoothingTuckerForecaster</th>\n",
       "      <td>0.049949</td>\n",
       "      <td>0.028154</td>\n",
       "      <td>0.052648</td>\n",
       "      <td>0.029739</td>\n",
       "    </tr>\n",
       "    <tr>\n",
       "      <th>TuckerForecaster</th>\n",
       "      <td>0.049432</td>\n",
       "      <td>0.028615</td>\n",
       "      <td>0.053059</td>\n",
       "      <td>0.030180</td>\n",
       "    </tr>\n",
       "  </tbody>\n",
       "</table>\n",
       "</div>"
      ],
      "text/plain": [
       "                                                                                   in_rmse  \\\n",
       "dataset    experiment_id                        model                                        \n",
       "traffic_75 9d9778a6-b67e-4d07-a0d3-39c427d3fd53 CPForecaster                      0.031425   \n",
       "                                                DCTForecaster                     0.044957   \n",
       "                                                DFTForecaster                     0.043290   \n",
       "                                                FourierBasisRegressionForecaster  0.052103   \n",
       "                                                HoltWintersForecaster             0.025525   \n",
       "                                                SmoothingCPForecaster             0.036885   \n",
       "                                                SmoothingTuckerForecaster         0.049949   \n",
       "                                                TuckerForecaster                  0.049432   \n",
       "\n",
       "                                                                                    in_mad  \\\n",
       "dataset    experiment_id                        model                                        \n",
       "traffic_75 9d9778a6-b67e-4d07-a0d3-39c427d3fd53 CPForecaster                      0.017783   \n",
       "                                                DCTForecaster                     0.027815   \n",
       "                                                DFTForecaster                     0.026243   \n",
       "                                                FourierBasisRegressionForecaster  0.030174   \n",
       "                                                HoltWintersForecaster             0.012433   \n",
       "                                                SmoothingCPForecaster             0.019939   \n",
       "                                                SmoothingTuckerForecaster         0.028154   \n",
       "                                                TuckerForecaster                  0.028615   \n",
       "\n",
       "                                                                                  out_rmse  \\\n",
       "dataset    experiment_id                        model                                        \n",
       "traffic_75 9d9778a6-b67e-4d07-a0d3-39c427d3fd53 CPForecaster                      0.049670   \n",
       "                                                DCTForecaster                     0.070922   \n",
       "                                                DFTForecaster                     0.056860   \n",
       "                                                FourierBasisRegressionForecaster  0.054091   \n",
       "                                                HoltWintersForecaster             0.049688   \n",
       "                                                SmoothingCPForecaster             0.047749   \n",
       "                                                SmoothingTuckerForecaster         0.052648   \n",
       "                                                TuckerForecaster                  0.053059   \n",
       "\n",
       "                                                                                   out_mad  \n",
       "dataset    experiment_id                        model                                       \n",
       "traffic_75 9d9778a6-b67e-4d07-a0d3-39c427d3fd53 CPForecaster                      0.026051  \n",
       "                                                DCTForecaster                     0.049064  \n",
       "                                                DFTForecaster                     0.035573  \n",
       "                                                FourierBasisRegressionForecaster  0.031454  \n",
       "                                                HoltWintersForecaster             0.024712  \n",
       "                                                SmoothingCPForecaster             0.024829  \n",
       "                                                SmoothingTuckerForecaster         0.029739  \n",
       "                                                TuckerForecaster                  0.030180  "
      ]
     },
     "execution_count": 6,
     "metadata": {},
     "output_type": "execute_result"
    }
   ],
   "source": [
    "mean_errors.groupby([\"dataset\", \"experiment_id\", \"model\"])[\"in_rmse\", \"in_mad\", \"out_rmse\", \"out_mad\"].min()"
   ]
  },
  {
   "cell_type": "code",
   "execution_count": 7,
   "metadata": {},
   "outputs": [],
   "source": [
    "# results.to_pickle(\"results/traffic_better_wfbm.pkl\")"
   ]
  },
  {
   "cell_type": "code",
   "execution_count": null,
   "metadata": {},
   "outputs": [],
   "source": []
  }
 ],
 "metadata": {
  "kernelspec": {
   "display_name": "Python 3",
   "language": "python",
   "name": "python3"
  },
  "language_info": {
   "codemirror_mode": {
    "name": "ipython",
    "version": 3
   },
   "file_extension": ".py",
   "mimetype": "text/x-python",
   "name": "python",
   "nbconvert_exporter": "python",
   "pygments_lexer": "ipython3",
   "version": "3.8.5"
  }
 },
 "nbformat": 4,
 "nbformat_minor": 4
}
